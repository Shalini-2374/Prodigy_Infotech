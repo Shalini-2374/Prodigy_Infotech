{
  "nbformat": 4,
  "nbformat_minor": 0,
  "metadata": {
    "colab": {
      "provenance": []
    },
    "kernelspec": {
      "name": "python3",
      "display_name": "Python 3"
    },
    "language_info": {
      "name": "python"
    }
  },
  "cells": [
    {
      "cell_type": "code",
      "source": [
        "import pandas as pd\n",
        "import matplotlib.pyplot as plt\n",
        "import seaborn as sns  # Optional for nicer plots (assuming installed)\n",
        "\n",
        "# Assuming your CSV file is named '/Console Generation data.csv' (update the path if needed)\n",
        "filename = '/Console Generation data.csv'\n",
        "\n",
        "try:\n",
        "    # Try reading the CSV file with UTF-8 encoding first\n",
        "    data = pd.read_csv(filename, encoding='utf-8')\n",
        "except UnicodeDecodeError:\n",
        "    # If UTF-8 fails, try other encodings\n",
        "    try:\n",
        "        data = pd.read_csv(filename, encoding='latin-1')\n",
        "    except UnicodeDecodeError:\n",
        "        data = pd.read_csv(filename, encoding='cp1252')\n",
        "        print(\"Using cp1252 encoding as a last resort. Consider checking the file's origin.\")\n",
        "\n",
        "# Check for missing values\n",
        "print(data.isnull().sum())  # View how many missing values in each column\n",
        "\n",
        "# Handle missing values if needed (e.g., drop rows, impute)\n",
        "# ... (your missing value handling code)\n",
        "\n",
        "# Explore data types\n",
        "print(data.dtypes)  # View data types of each column\n",
        "\n",
        "# Print column names to verify\n",
        "print(data.columns.tolist())  # View all column names as a list for better readability\n",
        "\n",
        "# Descriptive statistics for all columns\n",
        "print(data.describe(include='all'))  # Get summary statistics for all columns\n",
        "\n",
        "# Identify numerical columns (adjust based on data types)\n",
        "numerical_columns = [col for col in data.columns if pd.api.types.is_numeric_dtype(data[col])]\n",
        "\n",
        "# Check for outliers in numerical columns (optional)\n",
        "for col in numerical_columns:\n",
        "    # Ensure the column is actually numerical before plotting\n",
        "    if pd.api.types.is_numeric_dtype(data[col]):\n",
        "        sns.boxplot(x=col, data=data)  # Consider using IQR outlier detection methods if needed\n",
        "        plt.title(f\"Distribution of {col}\")\n",
        "        plt.show()\n",
        "\n",
        "# Explore categorical columns (optional)\n",
        "# ... (Your existing code for categorical data exploration remains the same)\n"
      ],
      "metadata": {
        "colab": {
          "base_uri": "https://localhost:8080/",
          "height": 1000
        },
        "id": "xQ6Y9EsK2LQr",
        "outputId": "7d0bd636-8864-4342-c0ff-c27df86fdbce"
      },
      "execution_count": 58,
      "outputs": [
        {
          "output_type": "stream",
          "name": "stdout",
          "text": [
            "Generation                               0\n",
            "Time period                              0\n",
            "Primary consoles                         0\n",
            "Year of release                          0\n",
            "Game media                               0\n",
            " Original Price                          0\n",
            " 2022 Price (Adjusted for inflation)     0\n",
            " Total Systems Sold                      0\n",
            "dtype: int64\n",
            "Generation                               object\n",
            "Time period                              object\n",
            "Primary consoles                         object\n",
            "Year of release                           int64\n",
            "Game media                               object\n",
            " Original Price                          object\n",
            " 2022 Price (Adjusted for inflation)     object\n",
            " Total Systems Sold                      object\n",
            "dtype: object\n",
            "['Generation', 'Time period', 'Primary consoles', 'Year of release', 'Game media', ' Original Price ', ' 2022 Price (Adjusted for inflation) ', ' Total Systems Sold ']\n",
            "       Generation   Time period  Primary consoles  Year of release  \\\n",
            "count          41            41                41        41.000000   \n",
            "unique          9            33                41              NaN   \n",
            "top        Fourth  2011-Present  Magnavox Odyssey              NaN   \n",
            "freq            6             6                 1              NaN   \n",
            "mean          NaN           NaN               NaN      1996.951220   \n",
            "std           NaN           NaN               NaN        14.136745   \n",
            "min           NaN           NaN               NaN      1972.000000   \n",
            "25%           NaN           NaN               NaN      1986.000000   \n",
            "50%           NaN           NaN               NaN      1998.000000   \n",
            "75%           NaN           NaN               NaN      2006.000000   \n",
            "max           NaN           NaN               NaN      2020.000000   \n",
            "\n",
            "             Game media  Original Price   \\\n",
            "count                41               41   \n",
            "unique                8               20   \n",
            "top     Game cartridges         $299.99    \n",
            "freq                 14                7   \n",
            "mean                NaN              NaN   \n",
            "std                 NaN              NaN   \n",
            "min                 NaN              NaN   \n",
            "25%                 NaN              NaN   \n",
            "50%                 NaN              NaN   \n",
            "75%                 NaN              NaN   \n",
            "max                 NaN              NaN   \n",
            "\n",
            "        2022 Price (Adjusted for inflation)   Total Systems Sold   \n",
            "count                                     41                   41  \n",
            "unique                                    40                   37  \n",
            "top                                 $499.99           18,500,000   \n",
            "freq                                       2                    2  \n",
            "mean                                     NaN                  NaN  \n",
            "std                                      NaN                  NaN  \n",
            "min                                      NaN                  NaN  \n",
            "25%                                      NaN                  NaN  \n",
            "50%                                      NaN                  NaN  \n",
            "75%                                      NaN                  NaN  \n",
            "max                                      NaN                  NaN  \n"
          ]
        },
        {
          "output_type": "display_data",
          "data": {
            "text/plain": [
              "<Figure size 640x480 with 1 Axes>"
            ],
            "image/png": "[encoded data removed]"
          },
          "metadata": {}
        }
      ]
    }
  ]
}